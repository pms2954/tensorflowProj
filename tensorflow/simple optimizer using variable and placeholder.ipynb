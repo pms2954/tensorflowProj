{
 "cells": [
  {
   "cell_type": "code",
   "execution_count": 1,
   "metadata": {},
   "outputs": [
    {
     "name": "stderr",
     "output_type": "stream",
     "text": [
      "C:\\Users\\PMS29\\Anaconda3\\lib\\site-packages\\h5py\\__init__.py:36: FutureWarning: Conversion of the second argument of issubdtype from `float` to `np.floating` is deprecated. In future, it will be treated as `np.float64 == np.dtype(float).type`.\n",
      "  from ._conv import register_converters as _register_converters\n"
     ]
    }
   ],
   "source": [
    "import tensorflow as tf\n",
    "import numpy as np"
   ]
  },
  {
   "cell_type": "markdown",
   "metadata": {},
   "source": [
    "init_val = tf.random_normal((1,5),0,1)\n",
    "var = tf.Variable(init_val, name='var')\n",
    "print('prev run {}'.format(var))\n",
    "init = tf.global_variables_initializer()\n",
    "with tf.Session() as sess:\n",
    "    sess.run(init)\n",
    "    post_var= sess.run(var)\n",
    "print(\"post run {}\".format(post_var))\n",
    "\n",
    "입력값으로 사용되며, 최적화 과정의 매개변수로서 사용된다.\n",
    "최초는 텐서로서 인식되며, 초기화과정이후에는 변수의 값으로서 인식된다\n",
    "\n",
    "\n",
    "x_data = np.random.randn(5,10)\n",
    "w_data = np.random.randn(10, 1)\n",
    "\n",
    "with tf.Graph().as_default():\n",
    "    x = tf.placeholder(tf.float32, shape=(5,10))\n",
    "    w = tf.placeholder(tf.float32, shape=(10,1))\n",
    "    b = tf.fill((5,1), -1.)b\n",
    "    xw =tf.matmul(x,w)\n",
    "    xwb = xw+b\n",
    "    s= tf.reduce_max(xwb)mm\n",
    "    with tf.Session() as sess:\n",
    "        outs = sess.run(s, feed_dict={x:x_data, w:w_data})\n",
    "\n",
    "print(\"outs ={}\".format(outs))\n",
    "\n",
    "플레이스 홀더는 데이터로 채워질 빈변수라고 생각하면 좋다. 그래프를 구성하고 그래프가 실행되는 시점에서 입력데이터를 밀어넣는데 사용한다. "
   ]
  }
 ],
 "metadata": {
  "kernelspec": {
   "display_name": "Python 3",
   "language": "python",
   "name": "python3"
  },
  "language_info": {
   "codemirror_mode": {
    "name": "ipython",
    "version": 3
   },
   "file_extension": ".py",
   "mimetype": "text/x-python",
   "name": "python",
   "nbconvert_exporter": "python",
   "pygments_lexer": "ipython3",
   "version": "3.6.5"
  }
 },
 "nbformat": 4,
 "nbformat_minor": 2
}
