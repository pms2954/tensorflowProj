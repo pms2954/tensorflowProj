{
 "cells": [
  {
   "cell_type": "code",
   "execution_count": 1,
   "metadata": {},
   "outputs": [
    {
     "name": "stderr",
     "output_type": "stream",
     "text": [
      "C:\\Users\\PMS29\\Anaconda3\\lib\\site-packages\\h5py\\__init__.py:36: FutureWarning: Conversion of the second argument of issubdtype from `float` to `np.floating` is deprecated. In future, it will be treated as `np.float64 == np.dtype(float).type`.\n",
      "  from ._conv import register_converters as _register_converters\n"
     ]
    }
   ],
   "source": [
    "import tensorflow as tf"
   ]
  },
  {
   "cell_type": "code",
   "execution_count": 8,
   "metadata": {},
   "outputs": [
    {
     "name": "stdout",
     "output_type": "stream",
     "text": [
      "c:0\n",
      "c_1:0\n",
      "cnew:0\n"
     ]
    }
   ],
   "source": [
    "with tf.Graph().as_default():\n",
    "    c1 = tf.constant(4,dtype=tf.float64, name='c')\n",
    "    c2 = tf.constant(4,dtype=tf.int32 , name='c')\n",
    "    c3 = tf.constant(4,dtype=tf.int32 , name='cnew')\n",
    "\n",
    "print(c1.name)\n",
    "print(c2.name)\n",
    "print(c3.name)"
   ]
  },
  {
   "cell_type": "code",
   "execution_count": 20,
   "metadata": {},
   "outputs": [
    {
     "name": "stdout",
     "output_type": "stream",
     "text": [
      "c:0\n",
      "prefix_name/c:0\n",
      "prefix_name/c_1:0\n"
     ]
    }
   ],
   "source": [
    "with tf.Graph().as_default():\n",
    "    c1 = tf.constant(4,dtype=tf.float64, name='c')\n",
    "    with tf.name_scope(\"prefix_name\"):\n",
    "        c2=tf.constant(4,dtype=tf.int32,name='c')\n",
    "        c3=tf.constant(4,dtype=tf.float64,name='c')\n",
    "print(c1.name)\n",
    "print(c2.name)\n",
    "print(c3.name)\n"
   ]
  },
  {
   "cell_type": "markdown",
   "metadata": {},
   "source": [
    "그래프를 구성하는 하나의 텐서는 각 이름을 지정할수있다. 하지만 하나의 그래프의 하나이상의 이름을 가질수는 없다. 물론 다른 그래프에서는 가능하다. 그래서 중복된 이름이 나오지않는 것을 볼수 있다.\n",
    "\n",
    "두번째 예는 각 텐서를 이름스코프를 통해 노드를 묶어서 정리할수있게 되는데, 이같은경우에는 같은 부모노드 아래에 있는 노드는 부모와 같은 이름을 가질수 있다. 텐서 객체를 하나의 텐서 객체의 특정 네임 스코프로 그룹화 할수 있으며, 구조를 시각화하는데에 편리한 구조를 가질수 있다.\n"
   ]
  }
 ],
 "metadata": {
  "kernelspec": {
   "display_name": "Python 3",
   "language": "python",
   "name": "python3"
  },
  "language_info": {
   "codemirror_mode": {
    "name": "ipython",
    "version": 3
   },
   "file_extension": ".py",
   "mimetype": "text/x-python",
   "name": "python",
   "nbconvert_exporter": "python",
   "pygments_lexer": "ipython3",
   "version": "3.6.5"
  }
 },
 "nbformat": 4,
 "nbformat_minor": 2
}
